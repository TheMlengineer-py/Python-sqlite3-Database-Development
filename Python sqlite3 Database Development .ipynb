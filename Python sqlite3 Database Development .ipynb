{
 "cells": [
  {
   "cell_type": "markdown",
   "id": "0547289c",
   "metadata": {},
   "source": [
    "# Python sqlite3 Database Development "
   ]
  },
  {
   "cell_type": "code",
   "execution_count": 1,
   "id": "d1fb3dc3",
   "metadata": {},
   "outputs": [],
   "source": [
    "#create product database\n",
    "#create products and prices table\n",
    "\n",
    "import sqlite3\n",
    "conn = sqlite3.connect('item_database') \n",
    "c = conn.cursor()\n",
    "\n",
    "c.execute('''\n",
    "          CREATE TABLE IF NOT EXISTS products\n",
    "          ([product_id] INTEGER PRIMARY KEY, [product_name] TEXT)\n",
    "          ''')\n",
    "          \n",
    "c.execute('''\n",
    "          CREATE TABLE IF NOT EXISTS prices\n",
    "          ([product_id] INTEGER PRIMARY KEY, [price] INTEGER)\n",
    "          ''')\n",
    "                     \n",
    "conn.commit()"
   ]
  },
  {
   "cell_type": "code",
   "execution_count": 2,
   "id": "7ed8452d",
   "metadata": {},
   "outputs": [],
   "source": [
    "#Insert Values into products and prices table\n",
    "\n",
    "import sqlite3\n",
    "\n",
    "conn = sqlite3.connect('item_database') \n",
    "c = conn.cursor()\n",
    "                   \n",
    "c.execute('''\n",
    "          INSERT INTO products (product_id, product_name)\n",
    "\n",
    "                VALUES\n",
    "                (1,'Spaggetti'),\n",
    "                (2,'Rice'),\n",
    "                (3,'bread'),\n",
    "                (4,'Sugar'),\n",
    "                (5,'Pepper')\n",
    "          ''')\n",
    "\n",
    "c.execute('''\n",
    "          INSERT INTO prices (product_id, price)\n",
    "\n",
    "                VALUES\n",
    "                (1,50),\n",
    "                (2,70),\n",
    "                (3,2),\n",
    "                (4,5),\n",
    "                (5,5)\n",
    "          ''')\n",
    "\n",
    "conn.commit()"
   ]
  },
  {
   "cell_type": "code",
   "execution_count": 3,
   "id": "7f0711c4",
   "metadata": {},
   "outputs": [
    {
     "name": "stdout",
     "output_type": "stream",
     "text": [
      "  product_name  price\n",
      "0    Spaggetti     50\n",
      "1         Rice     70\n",
      "2        bread      2\n",
      "3        Sugar      5\n",
      "4       Pepper      5\n"
     ]
    }
   ],
   "source": [
    "#join products table and prices table using product id column\n",
    "#display in pandas\n",
    "\n",
    "import pandas as pd\n",
    "\n",
    "conn = sqlite3.connect('item_database') \n",
    "c = conn.cursor()\n",
    "                   \n",
    "c.execute('''\n",
    "          SELECT\n",
    "          a.product_name,\n",
    "          b.price\n",
    "          FROM products a\n",
    "          LEFT JOIN prices b ON a.product_id = b.product_id\n",
    "          ''')\n",
    "\n",
    "df = pd.DataFrame(c.fetchall(), columns=['product_name','price'])\n",
    "print (df)"
   ]
  },
  {
   "cell_type": "code",
   "execution_count": 4,
   "id": "8e3448dc",
   "metadata": {},
   "outputs": [
    {
     "data": {
      "text/html": [
       "<style type=\"text/css\">\n",
       "#T_ba393_row0_col1 {\n",
       "  background-color: #f3854b;\n",
       "  color: #f1f1f1;\n",
       "}\n",
       "#T_ba393_row1_col1 {\n",
       "  background-color: #f0f921;\n",
       "  color: #000000;\n",
       "}\n",
       "#T_ba393_row2_col1 {\n",
       "  background-color: #0d0887;\n",
       "  color: #f1f1f1;\n",
       "}\n",
       "#T_ba393_row3_col1, #T_ba393_row4_col1 {\n",
       "  background-color: #280592;\n",
       "  color: #f1f1f1;\n",
       "}\n",
       "</style>\n",
       "<table id=\"T_ba393_\">\n",
       "  <thead>\n",
       "    <tr>\n",
       "      <th class=\"blank level0\" >&nbsp;</th>\n",
       "      <th class=\"col_heading level0 col0\" >product_name</th>\n",
       "      <th class=\"col_heading level0 col1\" >price</th>\n",
       "    </tr>\n",
       "  </thead>\n",
       "  <tbody>\n",
       "    <tr>\n",
       "      <th id=\"T_ba393_level0_row0\" class=\"row_heading level0 row0\" >0</th>\n",
       "      <td id=\"T_ba393_row0_col0\" class=\"data row0 col0\" >Spaggetti</td>\n",
       "      <td id=\"T_ba393_row0_col1\" class=\"data row0 col1\" >50</td>\n",
       "    </tr>\n",
       "    <tr>\n",
       "      <th id=\"T_ba393_level0_row1\" class=\"row_heading level0 row1\" >1</th>\n",
       "      <td id=\"T_ba393_row1_col0\" class=\"data row1 col0\" >Rice</td>\n",
       "      <td id=\"T_ba393_row1_col1\" class=\"data row1 col1\" >70</td>\n",
       "    </tr>\n",
       "    <tr>\n",
       "      <th id=\"T_ba393_level0_row2\" class=\"row_heading level0 row2\" >2</th>\n",
       "      <td id=\"T_ba393_row2_col0\" class=\"data row2 col0\" >bread</td>\n",
       "      <td id=\"T_ba393_row2_col1\" class=\"data row2 col1\" >2</td>\n",
       "    </tr>\n",
       "    <tr>\n",
       "      <th id=\"T_ba393_level0_row3\" class=\"row_heading level0 row3\" >3</th>\n",
       "      <td id=\"T_ba393_row3_col0\" class=\"data row3 col0\" >Sugar</td>\n",
       "      <td id=\"T_ba393_row3_col1\" class=\"data row3 col1\" >5</td>\n",
       "    </tr>\n",
       "    <tr>\n",
       "      <th id=\"T_ba393_level0_row4\" class=\"row_heading level0 row4\" >4</th>\n",
       "      <td id=\"T_ba393_row4_col0\" class=\"data row4 col0\" >Pepper</td>\n",
       "      <td id=\"T_ba393_row4_col1\" class=\"data row4 col1\" >5</td>\n",
       "    </tr>\n",
       "  </tbody>\n",
       "</table>\n"
      ],
      "text/plain": [
       "<pandas.io.formats.style.Styler at 0x2118765ba00>"
      ]
     },
     "execution_count": 4,
     "metadata": {},
     "output_type": "execute_result"
    }
   ],
   "source": [
    "df.style.background_gradient(cmap='plasma')"
   ]
  },
  {
   "cell_type": "code",
   "execution_count": 5,
   "id": "0c444393",
   "metadata": {},
   "outputs": [],
   "source": [
    "# load dataframe into CSV file.\n",
    "df.to_csv('item_database.csv', index=False, header=True)"
   ]
  }
 ],
 "metadata": {
  "kernelspec": {
   "display_name": "Python 3 (ipykernel)",
   "language": "python",
   "name": "python3"
  },
  "language_info": {
   "codemirror_mode": {
    "name": "ipython",
    "version": 3
   },
   "file_extension": ".py",
   "mimetype": "text/x-python",
   "name": "python",
   "nbconvert_exporter": "python",
   "pygments_lexer": "ipython3",
   "version": "3.9.7"
  }
 },
 "nbformat": 4,
 "nbformat_minor": 5
}
